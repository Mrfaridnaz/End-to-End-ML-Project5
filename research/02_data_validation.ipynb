{
 "cells": [
  {
   "cell_type": "code",
   "id": "initial_id",
   "metadata": {
    "collapsed": true,
    "ExecuteTime": {
     "end_time": "2024-08-04T06:51:38.382722Z",
     "start_time": "2024-08-04T06:51:38.364890Z"
    }
   },
   "source": "import os",
   "outputs": [],
   "execution_count": 1
  },
  {
   "metadata": {
    "ExecuteTime": {
     "end_time": "2024-08-04T06:51:44.721451Z",
     "start_time": "2024-08-04T06:51:44.708495Z"
    }
   },
   "cell_type": "code",
   "source": "%pwd",
   "id": "2c54a9bacda5c6a",
   "outputs": [
    {
     "data": {
      "text/plain": [
       "'D:\\\\project\\\\MLProject5\\\\End-to-End-ML-Project5\\\\research'"
      ]
     },
     "execution_count": 2,
     "metadata": {},
     "output_type": "execute_result"
    }
   ],
   "execution_count": 2
  },
  {
   "metadata": {
    "ExecuteTime": {
     "end_time": "2024-08-04T06:51:52.762220Z",
     "start_time": "2024-08-04T06:51:52.742276Z"
    }
   },
   "cell_type": "code",
   "source": "os.chdir(\"../\")",
   "id": "4cad495effbae92c",
   "outputs": [],
   "execution_count": 3
  },
  {
   "metadata": {
    "ExecuteTime": {
     "end_time": "2024-08-04T07:14:37.322413Z",
     "start_time": "2024-08-04T07:14:37.312401Z"
    }
   },
   "cell_type": "code",
   "source": "%pwd",
   "id": "dead968d7945e56",
   "outputs": [
    {
     "data": {
      "text/plain": [
       "'D:\\\\project\\\\MLProject5\\\\End-to-End-ML-Project5'"
      ]
     },
     "execution_count": 16,
     "metadata": {},
     "output_type": "execute_result"
    }
   ],
   "execution_count": 16
  },
  {
   "metadata": {
    "ExecuteTime": {
     "end_time": "2024-08-04T07:26:10.015563Z",
     "start_time": "2024-08-04T07:26:10.003733Z"
    }
   },
   "cell_type": "code",
   "source": [
    "from dataclasses import dataclass\n",
    "from pathlib import Path\n",
    "\n",
    "@dataclass(frozen=True)\n",
    "class DataValidationConfig:\n",
    "    root_dir: Path\n",
    "    STATUS_FILE: str\n",
    "    unzip_data_dir: Path\n",
    "    all_schema: dict"
   ],
   "id": "52a9740d874d444a",
   "outputs": [],
   "execution_count": 25
  },
  {
   "metadata": {
    "ExecuteTime": {
     "end_time": "2024-08-04T07:26:10.902076Z",
     "start_time": "2024-08-04T07:26:10.889110Z"
    }
   },
   "cell_type": "code",
   "source": [
    "from mlProject.constants import *\n",
    "from mlProject.utils.common import read_yaml, create_directories"
   ],
   "id": "6804905f826f3413",
   "outputs": [],
   "execution_count": 26
  },
  {
   "metadata": {
    "ExecuteTime": {
     "end_time": "2024-08-04T07:26:11.572078Z",
     "start_time": "2024-08-04T07:26:11.552132Z"
    }
   },
   "cell_type": "code",
   "source": [
    "class ConfigurationManager:\n",
    "    def __init__(\n",
    "        self,\n",
    "        config_filepath = CONFIG_FILE_PATH,\n",
    "        params_filepath = PARAMS_FILE_PATH,\n",
    "        schema_filepath = SCHEMA_FILE_PATH):\n",
    "\n",
    "        self.config = read_yaml(config_filepath)\n",
    "        self.params = read_yaml(params_filepath)\n",
    "        self.schema = read_yaml(schema_filepath)\n",
    "\n",
    "        create_directories([self.config.artifacts_root])\n",
    "\n",
    "\n",
    "    \n",
    "    def get_data_validation_config(self) -> DataValidationConfig:\n",
    "        config = self.config.data_validation\n",
    "        schema = self.schema.COLUMNS\n",
    "\n",
    "        create_directories([config.root_dir])\n",
    "\n",
    "        data_validation_config = DataValidationConfig(\n",
    "            root_dir=config.root_dir,\n",
    "            STATUS_FILE=config.STATUS_FILE,\n",
    "            unzip_data_dir = config.unzip_data_dir,\n",
    "            all_schema=schema,\n",
    "        )\n",
    "\n",
    "        return data_validation_config"
   ],
   "id": "68c5580d30a0fef9",
   "outputs": [],
   "execution_count": 27
  },
  {
   "metadata": {
    "ExecuteTime": {
     "end_time": "2024-08-04T07:28:41.158543Z",
     "start_time": "2024-08-04T07:28:41.153276Z"
    }
   },
   "cell_type": "code",
   "source": [
    "import os\n",
    "from mlProject import logger\n",
    "import pandas as pd"
   ],
   "id": "63a4b412cd4bbb81",
   "outputs": [],
   "execution_count": 32
  },
  {
   "metadata": {
    "ExecuteTime": {
     "end_time": "2024-08-04T07:28:41.840288Z",
     "start_time": "2024-08-04T07:28:41.826111Z"
    }
   },
   "cell_type": "code",
   "source": [
    "class DataValiadtion:\n",
    "    def __init__(self, config: DataValidationConfig):\n",
    "        self.config = config\n",
    "\n",
    "    \n",
    "    def validate_all_columns(self)-> bool:\n",
    "        try:\n",
    "            validation_status = None\n",
    "\n",
    "            data = pd.read_csv(self.config.unzip_data_dir)\n",
    "            all_cols = list(data.columns)\n",
    "\n",
    "            all_schema = self.config.all_schema.keys()\n",
    "\n",
    "            \n",
    "            for col in all_cols:\n",
    "                if col not in all_schema:\n",
    "                    validation_status = False\n",
    "                    with open(self.config.STATUS_FILE, 'w') as f:\n",
    "                        f.write(f\"Validation status: {validation_status}\")\n",
    "                else:\n",
    "                    validation_status = True\n",
    "                    with open(self.config.STATUS_FILE, 'w') as f:\n",
    "                        f.write(f\"Validation status: {validation_status}\")\n",
    "\n",
    "            return validation_status\n",
    "        \n",
    "        except Exception as e:\n",
    "            raise e"
   ],
   "id": "4b824d86c9d0c7a3",
   "outputs": [],
   "execution_count": 33
  },
  {
   "metadata": {
    "ExecuteTime": {
     "end_time": "2024-08-04T07:28:42.402002Z",
     "start_time": "2024-08-04T07:28:42.354986Z"
    }
   },
   "cell_type": "code",
   "source": [
    "try:\n",
    "    config = ConfigurationManager()\n",
    "    data_validation_config = config.get_data_validation_config()\n",
    "    data_validation = DataValiadtion(config=data_validation_config)\n",
    "    data_validation.validate_all_columns()\n",
    "except Exception as e:\n",
    "    raise e"
   ],
   "id": "ba0b7161dc4535f2",
   "outputs": [
    {
     "name": "stdout",
     "output_type": "stream",
     "text": [
      "[2024-08-04 12:58:42,362: INFO: common: yaml file: config\\config.yaml loaded successfully]\n",
      "[2024-08-04 12:58:42,364: INFO: common: yaml file: params.yaml loaded successfully]\n",
      "[2024-08-04 12:58:42,370: INFO: common: yaml file: schema.yaml loaded successfully]\n",
      "[2024-08-04 12:58:42,371: INFO: common: created directory at: artifacts]\n",
      "[2024-08-04 12:58:42,373: INFO: common: created directory at: artifacts/data_validation]\n"
     ]
    }
   ],
   "execution_count": 34
  },
  {
   "metadata": {},
   "cell_type": "code",
   "outputs": [],
   "execution_count": null,
   "source": "",
   "id": "15ec1f4c3a7b6fc4"
  }
 ],
 "metadata": {
  "kernelspec": {
   "display_name": "Python 3",
   "language": "python",
   "name": "python3"
  },
  "language_info": {
   "codemirror_mode": {
    "name": "ipython",
    "version": 2
   },
   "file_extension": ".py",
   "mimetype": "text/x-python",
   "name": "python",
   "nbconvert_exporter": "python",
   "pygments_lexer": "ipython2",
   "version": "2.7.6"
  }
 },
 "nbformat": 4,
 "nbformat_minor": 5
}
